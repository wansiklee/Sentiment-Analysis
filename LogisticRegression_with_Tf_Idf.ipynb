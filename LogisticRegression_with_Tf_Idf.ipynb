{
  "nbformat": 4,
  "nbformat_minor": 0,
  "metadata": {
    "kernelspec": {
      "display_name": "Python 3",
      "language": "python",
      "name": "python3"
    },
    "language_info": {
      "codemirror_mode": {
        "name": "ipython",
        "version": 3
      },
      "file_extension": ".py",
      "mimetype": "text/x-python",
      "name": "python",
      "nbconvert_exporter": "python",
      "pygments_lexer": "ipython3",
      "version": "3.7.3"
    },
    "colab": {
      "name": "LogisticRegression_with_Tf-Idf.ipynb",
      "version": "0.3.2",
      "provenance": []
    }
  },
  "cells": [
    {
      "cell_type": "markdown",
      "metadata": {
        "id": "HJDHAArO_9Ly",
        "colab_type": "text"
      },
      "source": [
        "# TF-IDF를 활용한 모델 구현"
      ]
    },
    {
      "cell_type": "code",
      "metadata": {
        "id": "AKmSjGQb_9Lz",
        "colab_type": "code",
        "colab": {}
      },
      "source": [
        "import os\n",
        "\n",
        "import pandas as pd\n",
        "import numpy as np\n",
        "\n",
        "from sklearn.feature_extraction.text import TfidfVectorizer\n",
        "from sklearn.model_selection import train_test_split\n",
        "from sklearn.linear_model import LogisticRegression"
      ],
      "execution_count": 0,
      "outputs": []
    },
    {
      "cell_type": "code",
      "metadata": {
        "scrolled": false,
        "id": "8QfCqkv-_9L3",
        "colab_type": "code",
        "colab": {}
      },
      "source": [
        "DATA_IN_PATH = r'./data_in/'\n",
        "TRAIN_CLEAN_DATA = 'train_clean.csv'\n",
        "\n",
        "train_data = pd.read_csv(DATA_IN_PATH + TRAIN_CLEAN_DATA)\n",
        "\n",
        "reviews = list(train_data['review'])\n",
        "sentiments = list(train_data['sentiment'])"
      ],
      "execution_count": 0,
      "outputs": []
    },
    {
      "cell_type": "markdown",
      "metadata": {
        "id": "RmZ67Wc5_9L6",
        "colab_type": "text"
      },
      "source": [
        "# TF-IDF 벡터화"
      ]
    },
    {
      "cell_type": "code",
      "metadata": {
        "id": "qDdchIn1_9L7",
        "colab_type": "code",
        "colab": {}
      },
      "source": [
        "from sklearn.feature_extraction.text import TfidfVectorizer\n",
        "\n",
        "# min_df : 설정한 값보다 특정 토큰의 df값이 더 적게 나오면 벡터화 과정에서 제거\n",
        "# analyzer : 분석하기 위한 기준 단위. 'word'는 단어 하나 단위, 'char'는 문자 하나 단위\n",
        "# sublinear_tf : 문서의 단어 빈도 수(term frequency)에 대한 스무딩 여부 설정\n",
        "# ngram_range : 빈도의 기본 단위를 어느 범위의 n-gram으로 설정할 것인지의 값\n",
        "# max_features : 각 벡터의 최대 길이, 특징의 길이 설정\n",
        "vectorizer = TfidfVectorizer(min_df=0.0, analyzer='char', sublinear_tf=True,\n",
        "                             ngram_range=(1, 3), max_features=5000)\n",
        "\n",
        "X = vectorizer.fit_transform(reviews)"
      ],
      "execution_count": 0,
      "outputs": []
    },
    {
      "cell_type": "markdown",
      "metadata": {
        "id": "5G5RTkYk_9L-",
        "colab_type": "text"
      },
      "source": [
        "# 학습과 검증 데이터셋 분리"
      ]
    },
    {
      "cell_type": "code",
      "metadata": {
        "id": "FYJFtACF_9L_",
        "colab_type": "code",
        "colab": {}
      },
      "source": [
        "RANDOM_SEED = 42\n",
        "TEST_SPLIT = 0.2\n",
        "\n",
        "y = np.array(sentiments)\n",
        "\n",
        "X_train, X_eval, y_train, y_eval =  train_test_split(X, y, test_size=TEST_SPLIT, random_state=RANDOM_SEED)"
      ],
      "execution_count": 0,
      "outputs": []
    },
    {
      "cell_type": "markdown",
      "metadata": {
        "id": "HE1kEU9l_9MB",
        "colab_type": "text"
      },
      "source": [
        "# 모델 선언 및 학습"
      ]
    },
    {
      "cell_type": "code",
      "metadata": {
        "id": "Y0Pl39zf_9MC",
        "colab_type": "code",
        "colab": {},
        "outputId": "0d1f6d08-63ce-4c17-da0f-c52f3385429b"
      },
      "source": [
        "model = LogisticRegression(class_weight='balanced')\n",
        "model.fit(X_train, y_train)"
      ],
      "execution_count": 0,
      "outputs": [
        {
          "output_type": "stream",
          "text": [
            "C:\\ProgramData\\Anaconda3\\lib\\site-packages\\sklearn\\linear_model\\logistic.py:433: FutureWarning: Default solver will be changed to 'lbfgs' in 0.22. Specify a solver to silence this warning.\n",
            "  FutureWarning)\n"
          ],
          "name": "stderr"
        },
        {
          "output_type": "execute_result",
          "data": {
            "text/plain": [
              "LogisticRegression(C=1.0, class_weight='balanced', dual=False,\n",
              "          fit_intercept=True, intercept_scaling=1, max_iter=100,\n",
              "          multi_class='warn', n_jobs=None, penalty='l2', random_state=None,\n",
              "          solver='warn', tol=0.0001, verbose=0, warm_start=False)"
            ]
          },
          "metadata": {
            "tags": []
          },
          "execution_count": 7
        }
      ]
    },
    {
      "cell_type": "markdown",
      "metadata": {
        "id": "2dgAq09B_9MG",
        "colab_type": "text"
      },
      "source": [
        "# 검증 데이터로 성능 평가"
      ]
    },
    {
      "cell_type": "code",
      "metadata": {
        "id": "qK-WzCtR_9MH",
        "colab_type": "code",
        "colab": {},
        "outputId": "f71dad8d-0ee2-4d6a-d4ae-31bbcd5abdb8"
      },
      "source": [
        "print(\"Accuracy: %f\" % model.score(X_eval, y_eval))"
      ],
      "execution_count": 0,
      "outputs": [
        {
          "output_type": "stream",
          "text": [
            "Accuracy: 0.859600\n"
          ],
          "name": "stdout"
        }
      ]
    },
    {
      "cell_type": "markdown",
      "metadata": {
        "id": "aAH9tS8Q_9MN",
        "colab_type": "text"
      },
      "source": [
        "# 캐글에 데이터 제출"
      ]
    },
    {
      "cell_type": "code",
      "metadata": {
        "id": "nbJO-D33_9MO",
        "colab_type": "code",
        "colab": {}
      },
      "source": [
        "TEST_CLEAN_DATA = 'test_clean.csv'\n",
        "\n",
        "test_data = pd.read_csv(DATA_IN_PATH + TEST_CLEAN_DATA)"
      ],
      "execution_count": 0,
      "outputs": []
    },
    {
      "cell_type": "code",
      "metadata": {
        "id": "_-86t2OU_9MQ",
        "colab_type": "code",
        "colab": {}
      },
      "source": [
        "testDataVecs = vectorizer.transform(test_data['review'])"
      ],
      "execution_count": 0,
      "outputs": []
    },
    {
      "cell_type": "code",
      "metadata": {
        "id": "6z31vniM_9MT",
        "colab_type": "code",
        "colab": {},
        "outputId": "ea47efab-8174-44e2-9c54-25f7ffcb7ab8"
      },
      "source": [
        "test_predicted = model.predict(testDataVecs)\n",
        "print(test_predicted)"
      ],
      "execution_count": 0,
      "outputs": [
        {
          "output_type": "stream",
          "text": [
            "[1 0 1 ... 0 1 0]\n"
          ],
          "name": "stdout"
        }
      ]
    },
    {
      "cell_type": "code",
      "metadata": {
        "id": "CjePnVQd_9MW",
        "colab_type": "code",
        "colab": {}
      },
      "source": [
        "DATA_OUT_PATH = r'./data_out/'\n",
        "\n",
        "if not os.path.exists(DATA_OUT_PATH):\n",
        "    os.makedirs(DATA_OUT_PATH)\n",
        "\n",
        "ids = list(test_data['id'])\n",
        "answer_dataset = pd.DataFrame({'id': ids, 'sentiment': test_predicted})\n",
        "answer_dataset.to_csv(DATA_OUT_PATH+'lgs_tfidf_answer.csv', index=False, quoting=3)"
      ],
      "execution_count": 0,
      "outputs": []
    }
  ]
}