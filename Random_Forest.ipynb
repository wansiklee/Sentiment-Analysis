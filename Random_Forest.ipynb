{
  "nbformat": 4,
  "nbformat_minor": 0,
  "metadata": {
    "kernelspec": {
      "display_name": "Python 3",
      "language": "python",
      "name": "python3"
    },
    "language_info": {
      "codemirror_mode": {
        "name": "ipython",
        "version": 3
      },
      "file_extension": ".py",
      "mimetype": "text/x-python",
      "name": "python",
      "nbconvert_exporter": "python",
      "pygments_lexer": "ipython3",
      "version": "3.7.3"
    },
    "colab": {
      "name": "Random_Forest.ipynb",
      "version": "0.3.2",
      "provenance": []
    }
  },
  "cells": [
    {
      "cell_type": "markdown",
      "metadata": {
        "id": "FxNQguWmuIP3",
        "colab_type": "text"
      },
      "source": [
        "# 랜덤 포레스트 분류 모델"
      ]
    },
    {
      "cell_type": "code",
      "metadata": {
        "id": "NhD78S7-uIP4",
        "colab_type": "code",
        "colab": {}
      },
      "source": [
        "import pandas as pd\n",
        "import numpy as np\n",
        "import os"
      ],
      "execution_count": 0,
      "outputs": []
    },
    {
      "cell_type": "code",
      "metadata": {
        "id": "X5pLivQCuIP9",
        "colab_type": "code",
        "colab": {}
      },
      "source": [
        "DATA_IN_PATH = r'./data_in/'\n",
        "TRAIN_CLEAN_DATA = 'train_clean.csv'\n",
        "\n",
        "train_data = pd.read_csv(DATA_IN_PATH + TRAIN_CLEAN_DATA)\n",
        "reviews = list(train_data['review'])\n",
        "y = np.array(train_data['sentiment'])"
      ],
      "execution_count": 0,
      "outputs": []
    },
    {
      "cell_type": "markdown",
      "metadata": {
        "id": "YE0c6FViuIQA",
        "colab_type": "text"
      },
      "source": [
        "# CountVectorizer를 활용한 벡터화"
      ]
    },
    {
      "cell_type": "code",
      "metadata": {
        "id": "_1qOt9uWuIQB",
        "colab_type": "code",
        "colab": {}
      },
      "source": [
        "from sklearn.feature_extraction.text import CountVectorizer\n",
        "\n",
        "vectorizer = CountVectorizer(analyzer='word', max_features=5000)\n",
        "\n",
        "train_data_features = vectorizer.fit_transform(reviews)"
      ],
      "execution_count": 0,
      "outputs": []
    },
    {
      "cell_type": "markdown",
      "metadata": {
        "id": "u0kv9j-huIQE",
        "colab_type": "text"
      },
      "source": [
        "# 학습과 검증 데이터셋 분리"
      ]
    },
    {
      "cell_type": "code",
      "metadata": {
        "id": "dqneCFbpuIQF",
        "colab_type": "code",
        "colab": {}
      },
      "source": [
        "from sklearn.model_selection import train_test_split\n",
        "\n",
        "TEST_SIZE = 0.2\n",
        "RANDOM_SEED = 42\n",
        "\n",
        "train_input, eval_input, train_label, eval_label = train_test_split(train_data_features, y,\n",
        "                                                                    test_size=TEST_SIZE, random_state=RANDOM_SEED)"
      ],
      "execution_count": 0,
      "outputs": []
    },
    {
      "cell_type": "code",
      "metadata": {
        "id": "yco3b01IuIQI",
        "colab_type": "code",
        "colab": {},
        "outputId": "21cc50cf-4aa9-4ba4-c654-d802e2608ea4"
      },
      "source": [
        "from sklearn.ensemble import RandomForestClassifier\n",
        "\n",
        "# 랜덤 포레스트 분류기에 100개의 의사결정 트리를 사용한다\n",
        "forest = RandomForestClassifier(n_estimators = 100)\n",
        "\n",
        "# 단어 묶음을 벡터화한 데이터와 정답 데이터를 가지고 학습을 시작한다\n",
        "forest.fit(train_input, train_label)"
      ],
      "execution_count": 0,
      "outputs": [
        {
          "output_type": "execute_result",
          "data": {
            "text/plain": [
              "RandomForestClassifier(bootstrap=True, class_weight=None, criterion='gini',\n",
              "            max_depth=None, max_features='auto', max_leaf_nodes=None,\n",
              "            min_impurity_decrease=0.0, min_impurity_split=None,\n",
              "            min_samples_leaf=1, min_samples_split=2,\n",
              "            min_weight_fraction_leaf=0.0, n_estimators=100, n_jobs=None,\n",
              "            oob_score=False, random_state=None, verbose=0,\n",
              "            warm_start=False)"
            ]
          },
          "metadata": {
            "tags": []
          },
          "execution_count": 5
        }
      ]
    },
    {
      "cell_type": "markdown",
      "metadata": {
        "id": "9nWnBwxiuIQM",
        "colab_type": "text"
      },
      "source": [
        "# 검증 데이터셋으로 성능 평가"
      ]
    },
    {
      "cell_type": "code",
      "metadata": {
        "id": "uaWAqdn5uIQN",
        "colab_type": "code",
        "colab": {},
        "outputId": "b99e9829-29da-4f33-d0ef-b296ab3dc105"
      },
      "source": [
        "print(\"Accuracy: %f\" % forest.score(eval_input, eval_label))"
      ],
      "execution_count": 0,
      "outputs": [
        {
          "output_type": "stream",
          "text": [
            "Accuracy: 0.846800\n"
          ],
          "name": "stdout"
        }
      ]
    },
    {
      "cell_type": "markdown",
      "metadata": {
        "id": "gRcN3Q0-uIQQ",
        "colab_type": "text"
      },
      "source": [
        "# 캐글에 데이터 제출"
      ]
    },
    {
      "cell_type": "code",
      "metadata": {
        "id": "-VucYbQKuIQQ",
        "colab_type": "code",
        "colab": {}
      },
      "source": [
        "TEST_CLEAN_DATA = 'test_clean.csv'\n",
        "DATA_OUT_PATH = r'./data_out/'\n",
        "\n",
        "test_data = pd.read_csv(DATA_IN_PATH + TEST_CLEAN_DATA)\n",
        "\n",
        "test_reviews = list(test_data['review'])\n",
        "ids = list(test_data['id'])"
      ],
      "execution_count": 0,
      "outputs": []
    },
    {
      "cell_type": "code",
      "metadata": {
        "id": "QRGahdYwuIQT",
        "colab_type": "code",
        "colab": {}
      },
      "source": [
        "test_data_features = vectorizer.transform(test_reviews)"
      ],
      "execution_count": 0,
      "outputs": []
    },
    {
      "cell_type": "code",
      "metadata": {
        "id": "KrFpSnRpuIQf",
        "colab_type": "code",
        "colab": {}
      },
      "source": [
        "if not os.path.exists(DATA_OUT_PATH):\n",
        "    os.makedirs(DATA_OUT_PATH)\n",
        "\n",
        "# 위에서 만든 랜덤 포레스트 분류기를 통해 예측값을 가져온다\n",
        "result = forest.predict(test_data_features)\n",
        "# 판다스 데이너 프레임을 통해 데이터를 구성해서 output에 넣는다\n",
        "output = pd.DataFrame(data={'id': ids, 'sentiment': result})\n",
        "# csv파일을 생성\n",
        "output.to_csv(DATA_OUT_PATH + \"RandomForest_answer.csv\", index=False, quoting=3)"
      ],
      "execution_count": 0,
      "outputs": []
    }
  ]
}